{
 "cells": [
  {
   "cell_type": "code",
   "execution_count": 1,
   "id": "993301ff-dec2-43ec-bd51-5c067c47dd10",
   "metadata": {},
   "outputs": [],
   "source": [
    "import pandas as pd \n",
    "import numpy as np\n",
    "from scipy import stats \n",
    "import matplotlib.pyplot as plt"
   ]
  },
  {
   "cell_type": "code",
   "execution_count": 2,
   "id": "5b50a85c-11de-4384-92d5-e725941db0bc",
   "metadata": {},
   "outputs": [],
   "source": [
    "doc = pd.read_csv(\"paso_2.csv\")"
   ]
  },
  {
   "cell_type": "markdown",
   "id": "72068f59-8b74-4b93-979f-27f8ce33a33b",
   "metadata": {},
   "source": [
    "# PILAR 2: PRIMER PISO\n",
    "# PREPARACIÓN DE LOS DATOS"
   ]
  },
  {
   "cell_type": "markdown",
   "id": "08c02379-1788-4c37-a242-1a7e0cf74484",
   "metadata": {},
   "source": [
    "Se verifica que no existen valores null"
   ]
  },
  {
   "cell_type": "code",
   "execution_count": 5,
   "id": "6e8ea3fc-b3bc-47d6-9adc-8de5d08726ad",
   "metadata": {},
   "outputs": [
    {
     "name": "stdout",
     "output_type": "stream",
     "text": [
      "No esisten valores null\n"
     ]
    }
   ],
   "source": [
    "if doc.isna().any().any() == True:\n",
    "    print(\"hay valores null\")\n",
    "else:\n",
    "    print(\"No esisten valores null\")"
   ]
  },
  {
   "cell_type": "markdown",
   "id": "67c54dec-bd88-4f43-904e-9c94bfff3ced",
   "metadata": {},
   "source": [
    "Se verifican los valores unicos de la columna Sexo"
   ]
  },
  {
   "cell_type": "code",
   "execution_count": 7,
   "id": "0d502fa9-55cf-4f00-b9ca-5032c7692de5",
   "metadata": {},
   "outputs": [
    {
     "data": {
      "text/plain": [
       "array(['Mujer', 'Hombre'], dtype=object)"
      ]
     },
     "execution_count": 7,
     "metadata": {},
     "output_type": "execute_result"
    }
   ],
   "source": [
    "doc[doc.columns[1]].unique()"
   ]
  },
  {
   "cell_type": "markdown",
   "id": "1a3117a5-cd53-4841-ae8d-7fba6f24fd7c",
   "metadata": {},
   "source": [
    "Se verifican los valores unicos de la columna edad. Ya que hay dos columnas, se eliminara la que tiene valores no numericos."
   ]
  },
  {
   "cell_type": "code",
   "execution_count": 9,
   "id": "55acdc73-92a7-4672-9750-1a3d16771e2a",
   "metadata": {},
   "outputs": [
    {
     "data": {
      "text/plain": [
       "array(['33', '41', '46', '37', '45', '28', '40', '38', '57', '31', '36',\n",
       "       '54', '62', '43', '44', '29', '20', '30', '68', '32', '52', '76',\n",
       "       '47', '84', '49', '25', '51', '24', '53', '34', '50', '48', '39',\n",
       "       '61', '55', '56', '66', '70', '35', '75', '42', 'Veintitrés ',\n",
       "       '60', '79', '65', '23', '69', '58', '64', '67', '59', '57 años',\n",
       "       '19', '27', '71', '63', '22', 'Tengo treinta y seis'], dtype=object)"
      ]
     },
     "execution_count": 9,
     "metadata": {},
     "output_type": "execute_result"
    }
   ],
   "source": [
    "doc[doc.columns[2]].unique() "
   ]
  },
  {
   "cell_type": "code",
   "execution_count": 10,
   "id": "ce29752a-6bfa-4263-82c1-ae635e8bba06",
   "metadata": {},
   "outputs": [
    {
     "data": {
      "text/plain": [
       "array([33, 41, 46, 37, 45, 28, 42, 40, 38, 57, 31, 36, 54, 62, 43, 44, 29,\n",
       "       20, 30, 68, 32, 52, 76, 47, 84, 49, 25, 51, 24, 53, 34, 50, 48, 39,\n",
       "       61, 55, 56, 66, 70, 35, 75, 23, 60, 79, 65, 69, 58, 64, 67, 59, 19,\n",
       "       27, 71, 63, 22])"
      ]
     },
     "execution_count": 10,
     "metadata": {},
     "output_type": "execute_result"
    }
   ],
   "source": [
    "doc[doc.columns[3]].unique() "
   ]
  },
  {
   "cell_type": "code",
   "execution_count": 11,
   "id": "3a743c4b-c939-4a25-9989-6cdab2bc4bc6",
   "metadata": {},
   "outputs": [],
   "source": [
    "doc = doc.drop(columns = [doc.columns[2]])"
   ]
  },
  {
   "cell_type": "code",
   "execution_count": 12,
   "id": "53d7bc81-4500-420b-9076-c00b57c4c741",
   "metadata": {},
   "outputs": [
    {
     "data": {
      "text/html": [
       "<div>\n",
       "<style scoped>\n",
       "    .dataframe tbody tr th:only-of-type {\n",
       "        vertical-align: middle;\n",
       "    }\n",
       "\n",
       "    .dataframe tbody tr th {\n",
       "        vertical-align: top;\n",
       "    }\n",
       "\n",
       "    .dataframe thead th {\n",
       "        text-align: right;\n",
       "    }\n",
       "</style>\n",
       "<table border=\"1\" class=\"dataframe\">\n",
       "  <thead>\n",
       "    <tr style=\"text-align: right;\">\n",
       "      <th></th>\n",
       "      <th>Marca temporal</th>\n",
       "      <th>¿Cuál es tu sexo biológico?</th>\n",
       "      <th>Edad</th>\n",
       "      <th>1. En general, me considero:</th>\n",
       "      <th>2. Comparado con la mayoría de la gente que me rodea, me considero:</th>\n",
       "      <th>3. Algunas personas suelen ser muy felices. Disfrutan la vida a pesar de lo que ocurra, afrontando la mayoría de las cosas. ¿En qué medida te consideras una persona así?</th>\n",
       "      <th>4. Algunas personas suelen ser muy poco felices. Aunque no están deprimidas, no parecen tan felices como ellas quisieran. ¿En qué medida te consideras una persona así?</th>\n",
       "    </tr>\n",
       "  </thead>\n",
       "  <tbody>\n",
       "    <tr>\n",
       "      <th>0</th>\n",
       "      <td>1/03/2025 10:40:47</td>\n",
       "      <td>Mujer</td>\n",
       "      <td>33</td>\n",
       "      <td>6</td>\n",
       "      <td>6</td>\n",
       "      <td>5</td>\n",
       "      <td>3</td>\n",
       "    </tr>\n",
       "    <tr>\n",
       "      <th>1</th>\n",
       "      <td>1/03/2025 10:40:53</td>\n",
       "      <td>Hombre</td>\n",
       "      <td>41</td>\n",
       "      <td>4</td>\n",
       "      <td>4</td>\n",
       "      <td>5</td>\n",
       "      <td>5</td>\n",
       "    </tr>\n",
       "    <tr>\n",
       "      <th>2</th>\n",
       "      <td>1/03/2025 10:40:54</td>\n",
       "      <td>Hombre</td>\n",
       "      <td>46</td>\n",
       "      <td>6</td>\n",
       "      <td>6</td>\n",
       "      <td>6</td>\n",
       "      <td>6</td>\n",
       "    </tr>\n",
       "    <tr>\n",
       "      <th>3</th>\n",
       "      <td>1/03/2025 10:41:05</td>\n",
       "      <td>Mujer</td>\n",
       "      <td>37</td>\n",
       "      <td>3</td>\n",
       "      <td>4</td>\n",
       "      <td>3</td>\n",
       "      <td>5</td>\n",
       "    </tr>\n",
       "    <tr>\n",
       "      <th>4</th>\n",
       "      <td>1/03/2025 10:41:05</td>\n",
       "      <td>Hombre</td>\n",
       "      <td>45</td>\n",
       "      <td>4</td>\n",
       "      <td>3</td>\n",
       "      <td>4</td>\n",
       "      <td>5</td>\n",
       "    </tr>\n",
       "    <tr>\n",
       "      <th>...</th>\n",
       "      <td>...</td>\n",
       "      <td>...</td>\n",
       "      <td>...</td>\n",
       "      <td>...</td>\n",
       "      <td>...</td>\n",
       "      <td>...</td>\n",
       "      <td>...</td>\n",
       "    </tr>\n",
       "    <tr>\n",
       "      <th>324</th>\n",
       "      <td>1/03/2025 10:55:12</td>\n",
       "      <td>Mujer</td>\n",
       "      <td>75</td>\n",
       "      <td>2</td>\n",
       "      <td>3</td>\n",
       "      <td>3</td>\n",
       "      <td>3</td>\n",
       "    </tr>\n",
       "    <tr>\n",
       "      <th>325</th>\n",
       "      <td>1/03/2025 10:55:20</td>\n",
       "      <td>Hombre</td>\n",
       "      <td>68</td>\n",
       "      <td>6</td>\n",
       "      <td>7</td>\n",
       "      <td>7</td>\n",
       "      <td>7</td>\n",
       "    </tr>\n",
       "    <tr>\n",
       "      <th>326</th>\n",
       "      <td>1/03/2025 10:55:41</td>\n",
       "      <td>Hombre</td>\n",
       "      <td>36</td>\n",
       "      <td>2</td>\n",
       "      <td>6</td>\n",
       "      <td>6</td>\n",
       "      <td>2</td>\n",
       "    </tr>\n",
       "    <tr>\n",
       "      <th>327</th>\n",
       "      <td>1/03/2025 10:56:07</td>\n",
       "      <td>Mujer</td>\n",
       "      <td>61</td>\n",
       "      <td>6</td>\n",
       "      <td>7</td>\n",
       "      <td>7</td>\n",
       "      <td>1</td>\n",
       "    </tr>\n",
       "    <tr>\n",
       "      <th>328</th>\n",
       "      <td>1/03/2025 10:56:16</td>\n",
       "      <td>Mujer</td>\n",
       "      <td>40</td>\n",
       "      <td>6</td>\n",
       "      <td>6</td>\n",
       "      <td>6</td>\n",
       "      <td>5</td>\n",
       "    </tr>\n",
       "  </tbody>\n",
       "</table>\n",
       "<p>329 rows × 7 columns</p>\n",
       "</div>"
      ],
      "text/plain": [
       "         Marca temporal ¿Cuál es tu sexo biológico?  Edad  \\\n",
       "0    1/03/2025 10:40:47                       Mujer    33   \n",
       "1    1/03/2025 10:40:53                      Hombre    41   \n",
       "2    1/03/2025 10:40:54                      Hombre    46   \n",
       "3    1/03/2025 10:41:05                       Mujer    37   \n",
       "4    1/03/2025 10:41:05                      Hombre    45   \n",
       "..                  ...                         ...   ...   \n",
       "324  1/03/2025 10:55:12                       Mujer    75   \n",
       "325  1/03/2025 10:55:20                      Hombre    68   \n",
       "326  1/03/2025 10:55:41                      Hombre    36   \n",
       "327  1/03/2025 10:56:07                       Mujer    61   \n",
       "328  1/03/2025 10:56:16                       Mujer    40   \n",
       "\n",
       "     1. En general, me considero:   \\\n",
       "0                                6   \n",
       "1                                4   \n",
       "2                                6   \n",
       "3                                3   \n",
       "4                                4   \n",
       "..                             ...   \n",
       "324                              2   \n",
       "325                              6   \n",
       "326                              2   \n",
       "327                              6   \n",
       "328                              6   \n",
       "\n",
       "     2. Comparado con la mayoría de la gente que me rodea, me considero:   \\\n",
       "0                                                    6                       \n",
       "1                                                    4                       \n",
       "2                                                    6                       \n",
       "3                                                    4                       \n",
       "4                                                    3                       \n",
       "..                                                 ...                       \n",
       "324                                                  3                       \n",
       "325                                                  7                       \n",
       "326                                                  6                       \n",
       "327                                                  7                       \n",
       "328                                                  6                       \n",
       "\n",
       "     3. Algunas personas suelen ser muy felices. Disfrutan la vida a pesar de lo que ocurra, afrontando la mayoría de las cosas. ¿En qué medida te consideras una persona así?   \\\n",
       "0                                                    5                                                                                                                               \n",
       "1                                                    5                                                                                                                               \n",
       "2                                                    6                                                                                                                               \n",
       "3                                                    3                                                                                                                               \n",
       "4                                                    4                                                                                                                               \n",
       "..                                                 ...                                                                                                                               \n",
       "324                                                  3                                                                                                                               \n",
       "325                                                  7                                                                                                                               \n",
       "326                                                  6                                                                                                                               \n",
       "327                                                  7                                                                                                                               \n",
       "328                                                  6                                                                                                                               \n",
       "\n",
       "     4. Algunas personas suelen ser muy poco felices. Aunque no están deprimidas, no parecen tan felices como ellas quisieran. ¿En qué medida te consideras una persona así?   \n",
       "0                                                    3                                                                                                                            \n",
       "1                                                    5                                                                                                                            \n",
       "2                                                    6                                                                                                                            \n",
       "3                                                    5                                                                                                                            \n",
       "4                                                    5                                                                                                                            \n",
       "..                                                 ...                                                                                                                            \n",
       "324                                                  3                                                                                                                            \n",
       "325                                                  7                                                                                                                            \n",
       "326                                                  2                                                                                                                            \n",
       "327                                                  1                                                                                                                            \n",
       "328                                                  5                                                                                                                            \n",
       "\n",
       "[329 rows x 7 columns]"
      ]
     },
     "execution_count": 12,
     "metadata": {},
     "output_type": "execute_result"
    }
   ],
   "source": [
    "doc"
   ]
  },
  {
   "cell_type": "markdown",
   "id": "14c89613-5868-4218-9da6-c972bb46dae0",
   "metadata": {
    "jp-MarkdownHeadingCollapsed": true
   },
   "source": [
    "## Renombramiento de Variables"
   ]
  },
  {
   "cell_type": "markdown",
   "id": "7a5b4f5c-338b-4f07-b7a9-afebc5cdd6d2",
   "metadata": {},
   "source": [
    "De acuerdo con el diccionario de variables, es necesario modificar los nombres de algunas columnas para que sean más representativos y facilitar su análisis. A continuación, se detallan los cambios realizados:\n",
    "\n",
    "Las siguientes columnas han sido renombradas según el diccionario de variables:\n",
    "\n",
    "- Columna en la posición 1 → Sexo\n",
    "- Columna en la posición 3 → P1\n",
    "- Columna en la posición 4 → P2\n",
    "- Columna en la posición 5 → P3\n",
    "- Columna en la posición 6 → P4"
   ]
  },
  {
   "cell_type": "code",
   "execution_count": 15,
   "id": "00a7f240-580d-4d79-a9cf-4b198176efc1",
   "metadata": {},
   "outputs": [
    {
     "data": {
      "text/html": [
       "<div>\n",
       "<style scoped>\n",
       "    .dataframe tbody tr th:only-of-type {\n",
       "        vertical-align: middle;\n",
       "    }\n",
       "\n",
       "    .dataframe tbody tr th {\n",
       "        vertical-align: top;\n",
       "    }\n",
       "\n",
       "    .dataframe thead th {\n",
       "        text-align: right;\n",
       "    }\n",
       "</style>\n",
       "<table border=\"1\" class=\"dataframe\">\n",
       "  <thead>\n",
       "    <tr style=\"text-align: right;\">\n",
       "      <th></th>\n",
       "      <th>Marca temporal</th>\n",
       "      <th>Sexo</th>\n",
       "      <th>Edad</th>\n",
       "      <th>P1</th>\n",
       "      <th>P2</th>\n",
       "      <th>P3</th>\n",
       "      <th>P4</th>\n",
       "    </tr>\n",
       "  </thead>\n",
       "  <tbody>\n",
       "    <tr>\n",
       "      <th>0</th>\n",
       "      <td>1/03/2025 10:40:47</td>\n",
       "      <td>Mujer</td>\n",
       "      <td>33</td>\n",
       "      <td>6</td>\n",
       "      <td>6</td>\n",
       "      <td>5</td>\n",
       "      <td>3</td>\n",
       "    </tr>\n",
       "    <tr>\n",
       "      <th>1</th>\n",
       "      <td>1/03/2025 10:40:53</td>\n",
       "      <td>Hombre</td>\n",
       "      <td>41</td>\n",
       "      <td>4</td>\n",
       "      <td>4</td>\n",
       "      <td>5</td>\n",
       "      <td>5</td>\n",
       "    </tr>\n",
       "    <tr>\n",
       "      <th>2</th>\n",
       "      <td>1/03/2025 10:40:54</td>\n",
       "      <td>Hombre</td>\n",
       "      <td>46</td>\n",
       "      <td>6</td>\n",
       "      <td>6</td>\n",
       "      <td>6</td>\n",
       "      <td>6</td>\n",
       "    </tr>\n",
       "    <tr>\n",
       "      <th>3</th>\n",
       "      <td>1/03/2025 10:41:05</td>\n",
       "      <td>Mujer</td>\n",
       "      <td>37</td>\n",
       "      <td>3</td>\n",
       "      <td>4</td>\n",
       "      <td>3</td>\n",
       "      <td>5</td>\n",
       "    </tr>\n",
       "    <tr>\n",
       "      <th>4</th>\n",
       "      <td>1/03/2025 10:41:05</td>\n",
       "      <td>Hombre</td>\n",
       "      <td>45</td>\n",
       "      <td>4</td>\n",
       "      <td>3</td>\n",
       "      <td>4</td>\n",
       "      <td>5</td>\n",
       "    </tr>\n",
       "    <tr>\n",
       "      <th>...</th>\n",
       "      <td>...</td>\n",
       "      <td>...</td>\n",
       "      <td>...</td>\n",
       "      <td>...</td>\n",
       "      <td>...</td>\n",
       "      <td>...</td>\n",
       "      <td>...</td>\n",
       "    </tr>\n",
       "    <tr>\n",
       "      <th>324</th>\n",
       "      <td>1/03/2025 10:55:12</td>\n",
       "      <td>Mujer</td>\n",
       "      <td>75</td>\n",
       "      <td>2</td>\n",
       "      <td>3</td>\n",
       "      <td>3</td>\n",
       "      <td>3</td>\n",
       "    </tr>\n",
       "    <tr>\n",
       "      <th>325</th>\n",
       "      <td>1/03/2025 10:55:20</td>\n",
       "      <td>Hombre</td>\n",
       "      <td>68</td>\n",
       "      <td>6</td>\n",
       "      <td>7</td>\n",
       "      <td>7</td>\n",
       "      <td>7</td>\n",
       "    </tr>\n",
       "    <tr>\n",
       "      <th>326</th>\n",
       "      <td>1/03/2025 10:55:41</td>\n",
       "      <td>Hombre</td>\n",
       "      <td>36</td>\n",
       "      <td>2</td>\n",
       "      <td>6</td>\n",
       "      <td>6</td>\n",
       "      <td>2</td>\n",
       "    </tr>\n",
       "    <tr>\n",
       "      <th>327</th>\n",
       "      <td>1/03/2025 10:56:07</td>\n",
       "      <td>Mujer</td>\n",
       "      <td>61</td>\n",
       "      <td>6</td>\n",
       "      <td>7</td>\n",
       "      <td>7</td>\n",
       "      <td>1</td>\n",
       "    </tr>\n",
       "    <tr>\n",
       "      <th>328</th>\n",
       "      <td>1/03/2025 10:56:16</td>\n",
       "      <td>Mujer</td>\n",
       "      <td>40</td>\n",
       "      <td>6</td>\n",
       "      <td>6</td>\n",
       "      <td>6</td>\n",
       "      <td>5</td>\n",
       "    </tr>\n",
       "  </tbody>\n",
       "</table>\n",
       "<p>329 rows × 7 columns</p>\n",
       "</div>"
      ],
      "text/plain": [
       "         Marca temporal    Sexo  Edad  P1  P2  P3  P4\n",
       "0    1/03/2025 10:40:47   Mujer    33   6   6   5   3\n",
       "1    1/03/2025 10:40:53  Hombre    41   4   4   5   5\n",
       "2    1/03/2025 10:40:54  Hombre    46   6   6   6   6\n",
       "3    1/03/2025 10:41:05   Mujer    37   3   4   3   5\n",
       "4    1/03/2025 10:41:05  Hombre    45   4   3   4   5\n",
       "..                  ...     ...   ...  ..  ..  ..  ..\n",
       "324  1/03/2025 10:55:12   Mujer    75   2   3   3   3\n",
       "325  1/03/2025 10:55:20  Hombre    68   6   7   7   7\n",
       "326  1/03/2025 10:55:41  Hombre    36   2   6   6   2\n",
       "327  1/03/2025 10:56:07   Mujer    61   6   7   7   1\n",
       "328  1/03/2025 10:56:16   Mujer    40   6   6   6   5\n",
       "\n",
       "[329 rows x 7 columns]"
      ]
     },
     "execution_count": 15,
     "metadata": {},
     "output_type": "execute_result"
    }
   ],
   "source": [
    "colum_indices = [1, 3, 4, 5, 6]\n",
    "new_names = [\"Sexo\", \"P1\", \"P2\", \"P3\", \"P4\"]\n",
    "\n",
    "rename_dict = {doc.columns[i]: new_names[idx] for idx, i in enumerate(colum_indices)}\n",
    "\n",
    "doc_rename= doc.rename(columns=rename_dict)\n",
    "\n",
    "doc_rename"
   ]
  },
  {
   "cell_type": "markdown",
   "id": "66dbd9f7-2c87-4f29-8f6f-888c394f079e",
   "metadata": {
    "jp-MarkdownHeadingCollapsed": true
   },
   "source": [
    "## Uso del Identificador \"ID\" como Índice del DataFrame"
   ]
  },
  {
   "cell_type": "markdown",
   "id": "187b524c-ca4f-4014-ba2d-fdd408a07f84",
   "metadata": {},
   "source": [
    "Para mejorar la organización y el manejo de los datos, se decidió establecer la columna \"ID\" como índice del DataFrame. Esto permite:\n",
    "\n",
    "- Facilitar la identificación de cada registro sin afectar la estructura de los datos.\n",
    "- Mejorar la eficiencia en búsquedas y operaciones dentro del DataFrame.\n",
    "- Evitar la duplicidad del identificador, asegurando que cada fila tenga un ID único."
   ]
  },
  {
   "cell_type": "code",
   "execution_count": 18,
   "id": "27076475-e5a0-4153-a9fb-8100bbf5c2e8",
   "metadata": {},
   "outputs": [
    {
     "data": {
      "text/html": [
       "<div>\n",
       "<style scoped>\n",
       "    .dataframe tbody tr th:only-of-type {\n",
       "        vertical-align: middle;\n",
       "    }\n",
       "\n",
       "    .dataframe tbody tr th {\n",
       "        vertical-align: top;\n",
       "    }\n",
       "\n",
       "    .dataframe thead th {\n",
       "        text-align: right;\n",
       "    }\n",
       "</style>\n",
       "<table border=\"1\" class=\"dataframe\">\n",
       "  <thead>\n",
       "    <tr style=\"text-align: right;\">\n",
       "      <th></th>\n",
       "      <th>Marca temporal</th>\n",
       "      <th>Sexo</th>\n",
       "      <th>Edad</th>\n",
       "      <th>P1</th>\n",
       "      <th>P2</th>\n",
       "      <th>P3</th>\n",
       "      <th>P4</th>\n",
       "    </tr>\n",
       "    <tr>\n",
       "      <th>ID</th>\n",
       "      <th></th>\n",
       "      <th></th>\n",
       "      <th></th>\n",
       "      <th></th>\n",
       "      <th></th>\n",
       "      <th></th>\n",
       "      <th></th>\n",
       "    </tr>\n",
       "  </thead>\n",
       "  <tbody>\n",
       "    <tr>\n",
       "      <th>1</th>\n",
       "      <td>1/03/2025 10:40:47</td>\n",
       "      <td>Mujer</td>\n",
       "      <td>33</td>\n",
       "      <td>6</td>\n",
       "      <td>6</td>\n",
       "      <td>5</td>\n",
       "      <td>3</td>\n",
       "    </tr>\n",
       "    <tr>\n",
       "      <th>2</th>\n",
       "      <td>1/03/2025 10:40:53</td>\n",
       "      <td>Hombre</td>\n",
       "      <td>41</td>\n",
       "      <td>4</td>\n",
       "      <td>4</td>\n",
       "      <td>5</td>\n",
       "      <td>5</td>\n",
       "    </tr>\n",
       "    <tr>\n",
       "      <th>3</th>\n",
       "      <td>1/03/2025 10:40:54</td>\n",
       "      <td>Hombre</td>\n",
       "      <td>46</td>\n",
       "      <td>6</td>\n",
       "      <td>6</td>\n",
       "      <td>6</td>\n",
       "      <td>6</td>\n",
       "    </tr>\n",
       "    <tr>\n",
       "      <th>4</th>\n",
       "      <td>1/03/2025 10:41:05</td>\n",
       "      <td>Mujer</td>\n",
       "      <td>37</td>\n",
       "      <td>3</td>\n",
       "      <td>4</td>\n",
       "      <td>3</td>\n",
       "      <td>5</td>\n",
       "    </tr>\n",
       "    <tr>\n",
       "      <th>5</th>\n",
       "      <td>1/03/2025 10:41:05</td>\n",
       "      <td>Hombre</td>\n",
       "      <td>45</td>\n",
       "      <td>4</td>\n",
       "      <td>3</td>\n",
       "      <td>4</td>\n",
       "      <td>5</td>\n",
       "    </tr>\n",
       "    <tr>\n",
       "      <th>...</th>\n",
       "      <td>...</td>\n",
       "      <td>...</td>\n",
       "      <td>...</td>\n",
       "      <td>...</td>\n",
       "      <td>...</td>\n",
       "      <td>...</td>\n",
       "      <td>...</td>\n",
       "    </tr>\n",
       "    <tr>\n",
       "      <th>325</th>\n",
       "      <td>1/03/2025 10:55:12</td>\n",
       "      <td>Mujer</td>\n",
       "      <td>75</td>\n",
       "      <td>2</td>\n",
       "      <td>3</td>\n",
       "      <td>3</td>\n",
       "      <td>3</td>\n",
       "    </tr>\n",
       "    <tr>\n",
       "      <th>326</th>\n",
       "      <td>1/03/2025 10:55:20</td>\n",
       "      <td>Hombre</td>\n",
       "      <td>68</td>\n",
       "      <td>6</td>\n",
       "      <td>7</td>\n",
       "      <td>7</td>\n",
       "      <td>7</td>\n",
       "    </tr>\n",
       "    <tr>\n",
       "      <th>327</th>\n",
       "      <td>1/03/2025 10:55:41</td>\n",
       "      <td>Hombre</td>\n",
       "      <td>36</td>\n",
       "      <td>2</td>\n",
       "      <td>6</td>\n",
       "      <td>6</td>\n",
       "      <td>2</td>\n",
       "    </tr>\n",
       "    <tr>\n",
       "      <th>328</th>\n",
       "      <td>1/03/2025 10:56:07</td>\n",
       "      <td>Mujer</td>\n",
       "      <td>61</td>\n",
       "      <td>6</td>\n",
       "      <td>7</td>\n",
       "      <td>7</td>\n",
       "      <td>1</td>\n",
       "    </tr>\n",
       "    <tr>\n",
       "      <th>329</th>\n",
       "      <td>1/03/2025 10:56:16</td>\n",
       "      <td>Mujer</td>\n",
       "      <td>40</td>\n",
       "      <td>6</td>\n",
       "      <td>6</td>\n",
       "      <td>6</td>\n",
       "      <td>5</td>\n",
       "    </tr>\n",
       "  </tbody>\n",
       "</table>\n",
       "<p>329 rows × 7 columns</p>\n",
       "</div>"
      ],
      "text/plain": [
       "         Marca temporal    Sexo  Edad  P1  P2  P3  P4\n",
       "ID                                                   \n",
       "1    1/03/2025 10:40:47   Mujer    33   6   6   5   3\n",
       "2    1/03/2025 10:40:53  Hombre    41   4   4   5   5\n",
       "3    1/03/2025 10:40:54  Hombre    46   6   6   6   6\n",
       "4    1/03/2025 10:41:05   Mujer    37   3   4   3   5\n",
       "5    1/03/2025 10:41:05  Hombre    45   4   3   4   5\n",
       "..                  ...     ...   ...  ..  ..  ..  ..\n",
       "325  1/03/2025 10:55:12   Mujer    75   2   3   3   3\n",
       "326  1/03/2025 10:55:20  Hombre    68   6   7   7   7\n",
       "327  1/03/2025 10:55:41  Hombre    36   2   6   6   2\n",
       "328  1/03/2025 10:56:07   Mujer    61   6   7   7   1\n",
       "329  1/03/2025 10:56:16   Mujer    40   6   6   6   5\n",
       "\n",
       "[329 rows x 7 columns]"
      ]
     },
     "execution_count": 18,
     "metadata": {},
     "output_type": "execute_result"
    }
   ],
   "source": [
    "doc_rename[\"ID\"] = range(1, len(doc_rename) + 1)\n",
    "doc_rename.set_index(\"ID\", inplace=True)\n",
    "doc_rename"
   ]
  },
  {
   "cell_type": "markdown",
   "id": "38ef66cb-5c0e-4a9b-a6bd-5df8a0f33a94",
   "metadata": {},
   "source": [
    "Se verifican  los tipos de cada variable"
   ]
  },
  {
   "cell_type": "code",
   "execution_count": 20,
   "id": "ca2d1488-6f0b-48b5-8f00-88ef071e5a84",
   "metadata": {},
   "outputs": [
    {
     "data": {
      "text/plain": [
       "Marca temporal    object\n",
       "Sexo              object\n",
       "Edad               int64\n",
       "P1                 int64\n",
       "P2                 int64\n",
       "P3                 int64\n",
       "P4                 int64\n",
       "dtype: object"
      ]
     },
     "execution_count": 20,
     "metadata": {},
     "output_type": "execute_result"
    }
   ],
   "source": [
    "doc_rename.dtypes"
   ]
  },
  {
   "cell_type": "markdown",
   "id": "c1916053-04cc-4ca4-8278-a281923b5bff",
   "metadata": {
    "jp-MarkdownHeadingCollapsed": true
   },
   "source": [
    "## Verificación y Conversión de Tipos de Variables"
   ]
  },
  {
   "cell_type": "code",
   "execution_count": 22,
   "id": "c1eb1531-15eb-451f-b0b2-7f1e583061b2",
   "metadata": {},
   "outputs": [
    {
     "data": {
      "text/plain": [
       "Marca temporal    object\n",
       "Sexo              object\n",
       "Edad               int64\n",
       "P1                 int64\n",
       "P2                 int64\n",
       "P3                 int64\n",
       "P4                 int64\n",
       "dtype: object"
      ]
     },
     "execution_count": 22,
     "metadata": {},
     "output_type": "execute_result"
    }
   ],
   "source": [
    "doc_rename.dtypes"
   ]
  },
  {
   "cell_type": "markdown",
   "id": "ae401d47-531b-42d4-ade1-72f04b2e11d6",
   "metadata": {},
   "source": [
    "Se realizó una verificación de los tipos de datos en el DataFrame para asegurarnos de que cada variable tenga el formato adecuado. Aunque en este caso el dataset contiene aproximadamente 300 observaciones, lo que no representa un volumen de datos muy grande, se aplicaron conversiones que pueden ser especialmente útiles en datasets más extensos, ya que ayudan a optimizar el uso de memoria y mejorar el rendimiento en ciertas operaciones.\n",
    "\n",
    "En este caso, se realizaron dos conversiones:\n",
    "\n",
    "1. Conversión de la variable \"Sexo\" a tipo category ya que las variables categóricas ocupan menos memoria y hacen que las operaciones como agrupaciones y filtrado sean más eficientes."
   ]
  },
  {
   "cell_type": "code",
   "execution_count": 24,
   "id": "4bb078e6-6d2a-4821-9570-ddb54f7bfbbb",
   "metadata": {},
   "outputs": [],
   "source": [
    "doc_rename[\"Sexo\"] = doc_rename[\"Sexo\"].astype(\"category\")"
   ]
  },
  {
   "cell_type": "markdown",
   "id": "b64bb279-af96-4a2d-b86f-496164df4bce",
   "metadata": {},
   "source": [
    "2. Conversión de la variable \"Marca temporal\" a tipo datetime ya que permite realizar operaciones avanzadas con fechas, como cálculos de diferencias, filtrado por rango de tiempo y mejor interpretación de datos temporales."
   ]
  },
  {
   "cell_type": "code",
   "execution_count": 26,
   "id": "e6e99665-5e09-4481-aafa-8b85ed7c9bcc",
   "metadata": {},
   "outputs": [],
   "source": [
    "doc_rename[\"Marca temporal\"] = pd.to_datetime(doc_rename[\"Marca temporal\"])"
   ]
  },
  {
   "cell_type": "code",
   "execution_count": 27,
   "id": "07fea5e7-d567-44aa-b07f-d72274c93db6",
   "metadata": {},
   "outputs": [
    {
     "data": {
      "text/plain": [
       "Marca temporal    datetime64[ns]\n",
       "Sexo                    category\n",
       "Edad                       int64\n",
       "P1                         int64\n",
       "P2                         int64\n",
       "P3                         int64\n",
       "P4                         int64\n",
       "dtype: object"
      ]
     },
     "execution_count": 27,
     "metadata": {},
     "output_type": "execute_result"
    }
   ],
   "source": [
    "doc_rename.dtypes"
   ]
  },
  {
   "cell_type": "markdown",
   "id": "fa72d6cd-4b49-4556-8cd8-0fb859452f46",
   "metadata": {},
   "source": [
    "## Transformación de la Escala del Ítem 4"
   ]
  },
  {
   "cell_type": "markdown",
   "id": "39a18555-73d5-410b-b33b-0f1a6d83ce38",
   "metadata": {},
   "source": [
    "Para garantizar que la escala de respuesta sea homogénea en todo el cuestionario, se requiere que todos los ítems tengan la misma dirección, es decir, que 1 represente menor felicidad y 7 mayor felicidad. Sin embargo, el ítem 4 está invertido en comparación con los otros ítems, ya que en este caso:\n",
    "\n",
    "- 1 indica \"muy feliz\"\n",
    "- 7 indica \"poco feliz\"\n",
    "Para corregir esta inconsistencia, se realizó una transformación en la que se invierte la puntuación del ítem 4 utilizando la siguiente fórmula:\n",
    "\n",
    "nuevo_valor = 8 − valor_original\n",
    "\n",
    "De esta manera: \n",
    "- Si un encuestado puntúa 1, el nuevo valor será 8 − 1 = 7 8 − 1 = 7 , indicando mayor felicidad.\n",
    "- Si puntúa 7, se transformará a 8 − 7 = 1"
   ]
  },
  {
   "cell_type": "code",
   "execution_count": 30,
   "id": "c74d90ec-cba5-4b09-a4d9-8ff4c9c300e1",
   "metadata": {},
   "outputs": [],
   "source": [
    "doc_rename[\"P4\"] = 8 - doc_rename[\"P4\"]"
   ]
  },
  {
   "cell_type": "markdown",
   "id": "8814a24e-3bd6-4b4b-bc8c-e9a0b19065a4",
   "metadata": {},
   "source": [
    "## Creación de la variable \"total\" (Escala de Felicidad)"
   ]
  },
  {
   "cell_type": "markdown",
   "id": "f2baccc6-af40-491a-9ce1-8c44f81adab1",
   "metadata": {},
   "source": [
    "Se añadió la variable \"total\", que representa el promedio de las respuestas en los ítems P1, P2, P3 y P4, proporcionando así una medida agregada de felicidad para cada observación."
   ]
  },
  {
   "cell_type": "code",
   "execution_count": 33,
   "id": "61e179ac-639b-4515-ad90-8ba7df45abbd",
   "metadata": {},
   "outputs": [],
   "source": [
    "doc_rename[\"total\"] = doc_rename[[\"P1\", \"P2\", \"P3\", \"P4\"]].mean(axis=1)"
   ]
  },
  {
   "cell_type": "code",
   "execution_count": 34,
   "id": "1f66d0f8-7751-4756-99c9-eb986c37edb8",
   "metadata": {},
   "outputs": [
    {
     "data": {
      "text/html": [
       "<div>\n",
       "<style scoped>\n",
       "    .dataframe tbody tr th:only-of-type {\n",
       "        vertical-align: middle;\n",
       "    }\n",
       "\n",
       "    .dataframe tbody tr th {\n",
       "        vertical-align: top;\n",
       "    }\n",
       "\n",
       "    .dataframe thead th {\n",
       "        text-align: right;\n",
       "    }\n",
       "</style>\n",
       "<table border=\"1\" class=\"dataframe\">\n",
       "  <thead>\n",
       "    <tr style=\"text-align: right;\">\n",
       "      <th></th>\n",
       "      <th>Marca temporal</th>\n",
       "      <th>Sexo</th>\n",
       "      <th>Edad</th>\n",
       "      <th>P1</th>\n",
       "      <th>P2</th>\n",
       "      <th>P3</th>\n",
       "      <th>P4</th>\n",
       "      <th>total</th>\n",
       "    </tr>\n",
       "    <tr>\n",
       "      <th>ID</th>\n",
       "      <th></th>\n",
       "      <th></th>\n",
       "      <th></th>\n",
       "      <th></th>\n",
       "      <th></th>\n",
       "      <th></th>\n",
       "      <th></th>\n",
       "      <th></th>\n",
       "    </tr>\n",
       "  </thead>\n",
       "  <tbody>\n",
       "    <tr>\n",
       "      <th>1</th>\n",
       "      <td>2025-01-03 10:40:47</td>\n",
       "      <td>Mujer</td>\n",
       "      <td>33</td>\n",
       "      <td>6</td>\n",
       "      <td>6</td>\n",
       "      <td>5</td>\n",
       "      <td>5</td>\n",
       "      <td>5.50</td>\n",
       "    </tr>\n",
       "    <tr>\n",
       "      <th>2</th>\n",
       "      <td>2025-01-03 10:40:53</td>\n",
       "      <td>Hombre</td>\n",
       "      <td>41</td>\n",
       "      <td>4</td>\n",
       "      <td>4</td>\n",
       "      <td>5</td>\n",
       "      <td>3</td>\n",
       "      <td>4.00</td>\n",
       "    </tr>\n",
       "    <tr>\n",
       "      <th>3</th>\n",
       "      <td>2025-01-03 10:40:54</td>\n",
       "      <td>Hombre</td>\n",
       "      <td>46</td>\n",
       "      <td>6</td>\n",
       "      <td>6</td>\n",
       "      <td>6</td>\n",
       "      <td>2</td>\n",
       "      <td>5.00</td>\n",
       "    </tr>\n",
       "    <tr>\n",
       "      <th>4</th>\n",
       "      <td>2025-01-03 10:41:05</td>\n",
       "      <td>Mujer</td>\n",
       "      <td>37</td>\n",
       "      <td>3</td>\n",
       "      <td>4</td>\n",
       "      <td>3</td>\n",
       "      <td>3</td>\n",
       "      <td>3.25</td>\n",
       "    </tr>\n",
       "    <tr>\n",
       "      <th>5</th>\n",
       "      <td>2025-01-03 10:41:05</td>\n",
       "      <td>Hombre</td>\n",
       "      <td>45</td>\n",
       "      <td>4</td>\n",
       "      <td>3</td>\n",
       "      <td>4</td>\n",
       "      <td>3</td>\n",
       "      <td>3.50</td>\n",
       "    </tr>\n",
       "    <tr>\n",
       "      <th>...</th>\n",
       "      <td>...</td>\n",
       "      <td>...</td>\n",
       "      <td>...</td>\n",
       "      <td>...</td>\n",
       "      <td>...</td>\n",
       "      <td>...</td>\n",
       "      <td>...</td>\n",
       "      <td>...</td>\n",
       "    </tr>\n",
       "    <tr>\n",
       "      <th>325</th>\n",
       "      <td>2025-01-03 10:55:12</td>\n",
       "      <td>Mujer</td>\n",
       "      <td>75</td>\n",
       "      <td>2</td>\n",
       "      <td>3</td>\n",
       "      <td>3</td>\n",
       "      <td>5</td>\n",
       "      <td>3.25</td>\n",
       "    </tr>\n",
       "    <tr>\n",
       "      <th>326</th>\n",
       "      <td>2025-01-03 10:55:20</td>\n",
       "      <td>Hombre</td>\n",
       "      <td>68</td>\n",
       "      <td>6</td>\n",
       "      <td>7</td>\n",
       "      <td>7</td>\n",
       "      <td>1</td>\n",
       "      <td>5.25</td>\n",
       "    </tr>\n",
       "    <tr>\n",
       "      <th>327</th>\n",
       "      <td>2025-01-03 10:55:41</td>\n",
       "      <td>Hombre</td>\n",
       "      <td>36</td>\n",
       "      <td>2</td>\n",
       "      <td>6</td>\n",
       "      <td>6</td>\n",
       "      <td>6</td>\n",
       "      <td>5.00</td>\n",
       "    </tr>\n",
       "    <tr>\n",
       "      <th>328</th>\n",
       "      <td>2025-01-03 10:56:07</td>\n",
       "      <td>Mujer</td>\n",
       "      <td>61</td>\n",
       "      <td>6</td>\n",
       "      <td>7</td>\n",
       "      <td>7</td>\n",
       "      <td>7</td>\n",
       "      <td>6.75</td>\n",
       "    </tr>\n",
       "    <tr>\n",
       "      <th>329</th>\n",
       "      <td>2025-01-03 10:56:16</td>\n",
       "      <td>Mujer</td>\n",
       "      <td>40</td>\n",
       "      <td>6</td>\n",
       "      <td>6</td>\n",
       "      <td>6</td>\n",
       "      <td>3</td>\n",
       "      <td>5.25</td>\n",
       "    </tr>\n",
       "  </tbody>\n",
       "</table>\n",
       "<p>329 rows × 8 columns</p>\n",
       "</div>"
      ],
      "text/plain": [
       "         Marca temporal    Sexo  Edad  P1  P2  P3  P4  total\n",
       "ID                                                          \n",
       "1   2025-01-03 10:40:47   Mujer    33   6   6   5   5   5.50\n",
       "2   2025-01-03 10:40:53  Hombre    41   4   4   5   3   4.00\n",
       "3   2025-01-03 10:40:54  Hombre    46   6   6   6   2   5.00\n",
       "4   2025-01-03 10:41:05   Mujer    37   3   4   3   3   3.25\n",
       "5   2025-01-03 10:41:05  Hombre    45   4   3   4   3   3.50\n",
       "..                  ...     ...   ...  ..  ..  ..  ..    ...\n",
       "325 2025-01-03 10:55:12   Mujer    75   2   3   3   5   3.25\n",
       "326 2025-01-03 10:55:20  Hombre    68   6   7   7   1   5.25\n",
       "327 2025-01-03 10:55:41  Hombre    36   2   6   6   6   5.00\n",
       "328 2025-01-03 10:56:07   Mujer    61   6   7   7   7   6.75\n",
       "329 2025-01-03 10:56:16   Mujer    40   6   6   6   3   5.25\n",
       "\n",
       "[329 rows x 8 columns]"
      ]
     },
     "execution_count": 34,
     "metadata": {},
     "output_type": "execute_result"
    }
   ],
   "source": [
    "doc_rename"
   ]
  },
  {
   "cell_type": "markdown",
   "id": "fab8b955-2397-47a3-bbfe-8ed9be362798",
   "metadata": {},
   "source": [
    "# PILAR 3: SEGUNDO PISO\n",
    "# ANÁLISIS ESTADÍSTICOS "
   ]
  },
  {
   "cell_type": "markdown",
   "id": "ebf14dee-39fd-4bd9-a4a3-4784bdd66940",
   "metadata": {},
   "source": [
    "Para garantizar que los datos sean interpretados de manera clara y accesible, se han utilizado etiquetas descriptivas que reemplazan los nombres técnicos de las variables con descripciones más comprensibles (como P1, P2, P3 y P4)."
   ]
  },
  {
   "cell_type": "code",
   "execution_count": 37,
   "id": "a9c54dc4-9b48-4961-a955-0fef4c480270",
   "metadata": {},
   "outputs": [
    {
     "data": {
      "text/html": [
       "<div>\n",
       "<style scoped>\n",
       "    .dataframe tbody tr th:only-of-type {\n",
       "        vertical-align: middle;\n",
       "    }\n",
       "\n",
       "    .dataframe tbody tr th {\n",
       "        vertical-align: top;\n",
       "    }\n",
       "\n",
       "    .dataframe thead th {\n",
       "        text-align: right;\n",
       "    }\n",
       "</style>\n",
       "<table border=\"1\" class=\"dataframe\">\n",
       "  <thead>\n",
       "    <tr style=\"text-align: right;\">\n",
       "      <th></th>\n",
       "      <th>Marca temporal</th>\n",
       "      <th>Sexo</th>\n",
       "      <th>Edad</th>\n",
       "      <th>P1</th>\n",
       "      <th>P2</th>\n",
       "      <th>P3</th>\n",
       "      <th>P4</th>\n",
       "      <th>total</th>\n",
       "    </tr>\n",
       "    <tr>\n",
       "      <th>ID</th>\n",
       "      <th></th>\n",
       "      <th></th>\n",
       "      <th></th>\n",
       "      <th></th>\n",
       "      <th></th>\n",
       "      <th></th>\n",
       "      <th></th>\n",
       "      <th></th>\n",
       "    </tr>\n",
       "  </thead>\n",
       "  <tbody>\n",
       "    <tr>\n",
       "      <th>1</th>\n",
       "      <td>2025-01-03 10:40:47</td>\n",
       "      <td>Mujer</td>\n",
       "      <td>33</td>\n",
       "      <td>6</td>\n",
       "      <td>6</td>\n",
       "      <td>5</td>\n",
       "      <td>5</td>\n",
       "      <td>5.50</td>\n",
       "    </tr>\n",
       "    <tr>\n",
       "      <th>2</th>\n",
       "      <td>2025-01-03 10:40:53</td>\n",
       "      <td>Hombre</td>\n",
       "      <td>41</td>\n",
       "      <td>4</td>\n",
       "      <td>4</td>\n",
       "      <td>5</td>\n",
       "      <td>3</td>\n",
       "      <td>4.00</td>\n",
       "    </tr>\n",
       "    <tr>\n",
       "      <th>3</th>\n",
       "      <td>2025-01-03 10:40:54</td>\n",
       "      <td>Hombre</td>\n",
       "      <td>46</td>\n",
       "      <td>6</td>\n",
       "      <td>6</td>\n",
       "      <td>6</td>\n",
       "      <td>2</td>\n",
       "      <td>5.00</td>\n",
       "    </tr>\n",
       "    <tr>\n",
       "      <th>4</th>\n",
       "      <td>2025-01-03 10:41:05</td>\n",
       "      <td>Mujer</td>\n",
       "      <td>37</td>\n",
       "      <td>3</td>\n",
       "      <td>4</td>\n",
       "      <td>3</td>\n",
       "      <td>3</td>\n",
       "      <td>3.25</td>\n",
       "    </tr>\n",
       "    <tr>\n",
       "      <th>5</th>\n",
       "      <td>2025-01-03 10:41:05</td>\n",
       "      <td>Hombre</td>\n",
       "      <td>45</td>\n",
       "      <td>4</td>\n",
       "      <td>3</td>\n",
       "      <td>4</td>\n",
       "      <td>3</td>\n",
       "      <td>3.50</td>\n",
       "    </tr>\n",
       "    <tr>\n",
       "      <th>...</th>\n",
       "      <td>...</td>\n",
       "      <td>...</td>\n",
       "      <td>...</td>\n",
       "      <td>...</td>\n",
       "      <td>...</td>\n",
       "      <td>...</td>\n",
       "      <td>...</td>\n",
       "      <td>...</td>\n",
       "    </tr>\n",
       "    <tr>\n",
       "      <th>325</th>\n",
       "      <td>2025-01-03 10:55:12</td>\n",
       "      <td>Mujer</td>\n",
       "      <td>75</td>\n",
       "      <td>2</td>\n",
       "      <td>3</td>\n",
       "      <td>3</td>\n",
       "      <td>5</td>\n",
       "      <td>3.25</td>\n",
       "    </tr>\n",
       "    <tr>\n",
       "      <th>326</th>\n",
       "      <td>2025-01-03 10:55:20</td>\n",
       "      <td>Hombre</td>\n",
       "      <td>68</td>\n",
       "      <td>6</td>\n",
       "      <td>7</td>\n",
       "      <td>7</td>\n",
       "      <td>1</td>\n",
       "      <td>5.25</td>\n",
       "    </tr>\n",
       "    <tr>\n",
       "      <th>327</th>\n",
       "      <td>2025-01-03 10:55:41</td>\n",
       "      <td>Hombre</td>\n",
       "      <td>36</td>\n",
       "      <td>2</td>\n",
       "      <td>6</td>\n",
       "      <td>6</td>\n",
       "      <td>6</td>\n",
       "      <td>5.00</td>\n",
       "    </tr>\n",
       "    <tr>\n",
       "      <th>328</th>\n",
       "      <td>2025-01-03 10:56:07</td>\n",
       "      <td>Mujer</td>\n",
       "      <td>61</td>\n",
       "      <td>6</td>\n",
       "      <td>7</td>\n",
       "      <td>7</td>\n",
       "      <td>7</td>\n",
       "      <td>6.75</td>\n",
       "    </tr>\n",
       "    <tr>\n",
       "      <th>329</th>\n",
       "      <td>2025-01-03 10:56:16</td>\n",
       "      <td>Mujer</td>\n",
       "      <td>40</td>\n",
       "      <td>6</td>\n",
       "      <td>6</td>\n",
       "      <td>6</td>\n",
       "      <td>3</td>\n",
       "      <td>5.25</td>\n",
       "    </tr>\n",
       "  </tbody>\n",
       "</table>\n",
       "<p>329 rows × 8 columns</p>\n",
       "</div>"
      ],
      "text/plain": [
       "         Marca temporal    Sexo  Edad  P1  P2  P3  P4  total\n",
       "ID                                                          \n",
       "1   2025-01-03 10:40:47   Mujer    33   6   6   5   5   5.50\n",
       "2   2025-01-03 10:40:53  Hombre    41   4   4   5   3   4.00\n",
       "3   2025-01-03 10:40:54  Hombre    46   6   6   6   2   5.00\n",
       "4   2025-01-03 10:41:05   Mujer    37   3   4   3   3   3.25\n",
       "5   2025-01-03 10:41:05  Hombre    45   4   3   4   3   3.50\n",
       "..                  ...     ...   ...  ..  ..  ..  ..    ...\n",
       "325 2025-01-03 10:55:12   Mujer    75   2   3   3   5   3.25\n",
       "326 2025-01-03 10:55:20  Hombre    68   6   7   7   1   5.25\n",
       "327 2025-01-03 10:55:41  Hombre    36   2   6   6   6   5.00\n",
       "328 2025-01-03 10:56:07   Mujer    61   6   7   7   7   6.75\n",
       "329 2025-01-03 10:56:16   Mujer    40   6   6   6   3   5.25\n",
       "\n",
       "[329 rows x 8 columns]"
      ]
     },
     "execution_count": 37,
     "metadata": {},
     "output_type": "execute_result"
    }
   ],
   "source": [
    "doc_rename"
   ]
  },
  {
   "cell_type": "markdown",
   "id": "0376965d-ab58-4b38-aaed-aa640f387e71",
   "metadata": {},
   "source": [
    "Creamos sus respectivos labels para que aparescan los detalles en los graficos"
   ]
  },
  {
   "cell_type": "code",
   "execution_count": 39,
   "id": "9acfd398-4e06-4dbc-8cb0-0988752e3ea3",
   "metadata": {},
   "outputs": [],
   "source": [
    "labels = {\n",
    "    'Sexo': 'Sexo del participante',\n",
    "    'Edad': 'Edad del participante',\n",
    "    'P1': 'En general, me considero:',\n",
    "    'P2': 'Comparado con la mayoría de la gente que me rodea, me considero:',\n",
    "    'P3': 'Algunas personas suelen ser muy felices. Disfrutan la vida a pesar de lo que ocurra, afrontando la mayoría de las cosas. ¿En qué medida te consideras una persona así? ',\n",
    "    'P4': 'Algunas personas suelen ser muy poco felices. Aunque no están deprimidas, no parecen tan felices como ellas quisieran. ¿En qué medida te consideras una persona así? ',\n",
    "    'Total': 'Total de felicidad subjetiva'\n",
    "}"
   ]
  },
  {
   "cell_type": "code",
   "execution_count": 40,
   "id": "6099823a-21e0-4664-b5d5-1416c4cd662e",
   "metadata": {},
   "outputs": [
    {
     "data": {
      "image/png": "[encoded data removed]",
      "text/plain": [
       "<Figure size 640x480 with 1 Axes>"
      ]
     },
     "metadata": {},
     "output_type": "display_data"
    }
   ],
   "source": [
    "plt.bar(doc_rename['P1'], doc_rename['Edad'])\n",
    "plt.title(\"Nivel de felicidad por edad\")\n",
    "plt.xlabel(labels['P1'])\n",
    "plt.ylabel(labels['Edad'])\n",
    "plt.savefig('Nivel de felicidad por edad.png')"
   ]
  },
  {
   "cell_type": "markdown",
   "id": "120999f0-9746-4873-9a52-107648fdb12f",
   "metadata": {},
   "source": [
    "# Objetivo del estudio"
   ]
  },
  {
   "cell_type": "markdown",
   "id": "5717ee4c-7ed5-40ae-9162-11d0a23863fc",
   "metadata": {},
   "source": [
    "## 1. Describir la edad y el sexo de los participantes del taller."
   ]
  },
  {
   "cell_type": "markdown",
   "id": "de746dee-f915-4243-8d73-34fa3a9d6a71",
   "metadata": {},
   "source": [
    "\n",
    "**Nivel de Investigación:** Descriptivo\n",
    "\n",
    "**Objetivo Estadístico:** Describir\n",
    "\n",
    "**Variable:** Edad, Sexo\n",
    "\n",
    "**Tipo de Variable:** Númerica, categórica\n",
    "\n",
    "**Plan de análisis de datos:** Estadísticos descriptivos + Histograma, Tabla de frecuencia + Gráfico de barras\t\t\t\t"
   ]
  },
  {
   "cell_type": "markdown",
   "id": "f4b6225d-7604-4e3e-87c3-77445593c46c",
   "metadata": {},
   "source": [
    "Para obtener estadísticas descriptivas, el método **.describe()** permite calcular medidas que resumen la tendencia central, la dispersión y la forma de la distribución de un conjunto de datos. No obstante, si se requiere obtener resultados equivalentes a los generados por el software SPSS, es posible desarrollar una función personalizada que reciba un DataFrame y la variable de interés, permitiendo así un análisis más detallado y completo."
   ]
  },
  {
   "cell_type": "code",
   "execution_count": 45,
   "id": "64251c98-0440-4f8f-aa5d-6ef23a4e0d10",
   "metadata": {},
   "outputs": [
    {
     "data": {
      "text/plain": [
       "count    329.000000\n",
       "mean      46.647416\n",
       "std       12.405140\n",
       "min       19.000000\n",
       "25%       37.000000\n",
       "50%       46.000000\n",
       "75%       56.000000\n",
       "max       84.000000\n",
       "Name: Edad, dtype: float64"
      ]
     },
     "execution_count": 45,
     "metadata": {},
     "output_type": "execute_result"
    }
   ],
   "source": [
    "doc_rename[\"Edad\"].describe()"
   ]
  },
  {
   "cell_type": "code",
   "execution_count": 46,
   "id": "3e34e40b-2ce0-491e-b7d2-7785549c381b",
   "metadata": {},
   "outputs": [],
   "source": [
    "def explorar_variables(data, columnas):\n",
    "\n",
    "    resultados = {}\n",
    "\n",
    "    for col in columnas:\n",
    "        x = data[col]\n",
    "        \n",
    "        # Tamaño de la muestra\n",
    "        n = len(x)\n",
    "        \n",
    "        # Estadísticos básicos\n",
    "        media = np.mean(x)\n",
    "        mediana = np.median(x)\n",
    "        varianza = np.var(x, ddof=1)     # ddof=1 para varianza muestral\n",
    "        std = np.std(x, ddof=1)\n",
    "        minimo = np.min(x)\n",
    "        maximo = np.max(x)\n",
    "        rango = maximo - minimo\n",
    "        iqr = stats.iqr(x)              # rango intercuartílico\n",
    "        asimetria = stats.skew(x)\n",
    "        curtosis = stats.kurtosis(x)\n",
    "        \n",
    "        # Media recortada al 5%\n",
    "        media_recortada_5 = stats.trim_mean(x, 0.05)\n",
    "        \n",
    "        # Intervalo de confianza 95% para la media (suponiendo distribución ~ normal)\n",
    "        sem = std / np.sqrt(n)  # error estándar\n",
    "        ci_95 = stats.t.interval(0.95, n - 1, loc=media, scale=sem)\n",
    "        ci_inferior, ci_superior = ci_95\n",
    "\n",
    "        # Guardamos los resultados en un diccionario\n",
    "        resultados[col] = {\n",
    "            #'count': n,\n",
    "            'media': media,\n",
    "            'IC_95%_inf': ci_inferior,\n",
    "            'IC_95%_sup': ci_superior,\n",
    "            'media_recortada_5%': media_recortada_5,\n",
    "            'mediana': mediana,\n",
    "            'varianza': varianza,\n",
    "            'desv_estandar': std,\n",
    "            'minimo': minimo,\n",
    "            'maximo': maximo,\n",
    "            'rango': rango,\n",
    "            'rango_intercuartil': iqr,\n",
    "            'asimetria': asimetria,\n",
    "            'curtosis': curtosis\n",
    "        }\n",
    "    \n",
    "    # Convertimos el diccionario en un DataFrame para visualizarlo mejor\n",
    "    resultados = pd.DataFrame(resultados).unstack()#.T\n",
    "    return resultados"
   ]
  },
  {
   "cell_type": "markdown",
   "id": "71566f18-eaea-4363-9539-180b14c15a6a",
   "metadata": {},
   "source": [
    "Estadísticos descriptivos"
   ]
  },
  {
   "cell_type": "markdown",
   "id": "abd29334-d6ea-41d7-b7b3-15a89a843fb5",
   "metadata": {},
   "source": [
    "Una vez definida la función, se introduce como entrada el DataFrame junto con la variable de interés para generar el histograma correspondiente."
   ]
  },
  {
   "cell_type": "code",
   "execution_count": 49,
   "id": "e210f118-fb38-4514-a5fb-830e4790da23",
   "metadata": {},
   "outputs": [
    {
     "data": {
      "text/plain": [
       "Edad  media                  46.647416\n",
       "      IC_95%_inf             45.301998\n",
       "      IC_95%_sup             47.992835\n",
       "      media_recortada_5%     46.535354\n",
       "      mediana                46.000000\n",
       "      varianza              153.887501\n",
       "      desv_estandar          12.405140\n",
       "      minimo                 19.000000\n",
       "      maximo                 84.000000\n",
       "      rango                  65.000000\n",
       "      rango_intercuartil     19.000000\n",
       "      asimetria               0.191060\n",
       "      curtosis               -0.496226\n",
       "dtype: float64"
      ]
     },
     "execution_count": 49,
     "metadata": {},
     "output_type": "execute_result"
    }
   ],
   "source": [
    "estadisticas = explorar_variables(doc_rename, ['Edad'])\n",
    "estadisticas"
   ]
  },
  {
   "cell_type": "markdown",
   "id": "a7f61900-89f8-4879-81b1-4bf44b8ae79a",
   "metadata": {},
   "source": [
    "Histograma"
   ]
  },
  {
   "cell_type": "code",
   "execution_count": 51,
   "id": "8142ac85-778e-4a71-a63c-3b3f77900b6c",
   "metadata": {},
   "outputs": [
    {
     "data": {
      "image/png": "[encoded data removed]",
      "text/plain": [
       "<Figure size 640x480 with 1 Axes>"
      ]
     },
     "metadata": {},
     "output_type": "display_data"
    },
    {
     "data": {
      "text/plain": [
       "<Figure size 640x480 with 0 Axes>"
      ]
     },
     "metadata": {},
     "output_type": "display_data"
    }
   ],
   "source": [
    "doc_rename['Edad'].hist(bins=35, color='skyblue', edgecolor='black')\n",
    "plt.xlabel(\"Edad\")\n",
    "plt.ylabel(\"Frecuencia\")\n",
    "plt.title(\"Histograma de Edad\")\n",
    "plt.show()\n",
    "plt.savefig('Histograma de Edad.png')"
   ]
  },
  {
   "cell_type": "markdown",
   "id": "843bdfd8-8e6b-44c6-9912-8f30e85f7b85",
   "metadata": {},
   "source": [
    "## 2. Saber cuál es el nivel de felicidad entre los asistentes del taller."
   ]
  },
  {
   "cell_type": "markdown",
   "id": "82d03791-51f7-423a-87bf-7187d8b0bc7b",
   "metadata": {},
   "source": [
    "\n",
    "**Nivel de Investigación:** Descriptivo\n",
    "\n",
    "**Objetivo Estadístico:** Describir\n",
    "\n",
    "**Variable:** Total\n",
    "\n",
    "**Tipo de Variable:** Númerica\n",
    "\n",
    "**Plan de análisis de datos:** Estadísticos descriptivos + Histograma"
   ]
  },
  {
   "cell_type": "code",
   "execution_count": 54,
   "id": "a755f1eb-bed4-49cc-bc11-7247aa2e8f04",
   "metadata": {},
   "outputs": [
    {
     "name": "stdout",
     "output_type": "stream",
     "text": [
      "total  media                 5.234043\n",
      "       IC_95%_inf            5.127908\n",
      "       IC_95%_sup            5.340177\n",
      "       media_recortada_5%    5.257576\n",
      "       mediana               5.250000\n",
      "       varianza              0.957633\n",
      "       desv_estandar         0.978587\n",
      "       minimo                2.000000\n",
      "       maximo                7.000000\n",
      "       rango                 5.000000\n",
      "       rango_intercuartil    1.250000\n",
      "       asimetria            -0.300299\n",
      "       curtosis             -0.219972\n",
      "dtype: float64\n"
     ]
    },
    {
     "data": {
      "image/png": "[encoded data removed]",
      "text/plain": [
       "<Figure size 640x480 with 1 Axes>"
      ]
     },
     "metadata": {},
     "output_type": "display_data"
    }
   ],
   "source": [
    "# ==== EJEMPLO DE USO ==== \n",
    "# Supongamos que en tu DataFrame 'doc_rename' tienes una columna 'Edad'\n",
    "# que quieres explorar:\n",
    "estadisticas = explorar_variables(doc_rename, [\"total\"])\n",
    "\n",
    "# Muestra la tabla con las estadísticas\n",
    "print(estadisticas)\n",
    "\n",
    "# ==== HISTOGRAMA ====\n",
    "# Para graficar un histograma de 'Edad' puedes hacer:\n",
    "doc_rename['total'].hist(bins=35, color='skyblue', edgecolor='black')\n",
    "plt.xlabel(labels['Total'])\n",
    "plt.ylabel(\"Frecuencia\")\n",
    "plt.title(\"Histograma del total\")\n",
    "plt.savefig('Histograma del total.png')"
   ]
  },
  {
   "cell_type": "markdown",
   "id": "4044d086-9efa-413f-965c-3d493d052c73",
   "metadata": {},
   "source": [
    "## 3. Identificar si hay una relación entre la felicidad y la edad de los asistentes. "
   ]
  },
  {
   "cell_type": "markdown",
   "id": "30242843-8342-4e87-9e27-0ce0b42af24e",
   "metadata": {},
   "source": [
    "\n",
    "**Nivel de Investigación:** Relacional\n",
    "\n",
    "**Objetivo Estadístico:** Correlacional\n",
    "\n",
    "**Variable:** Total, Edad\n",
    "\n",
    "**Tipo de Variable:** Ambas son númerica\n",
    "\n",
    "**Plan de análisis de datos:** Gráfico de dispersión, Coeficiente de correlación"
   ]
  },
  {
   "cell_type": "markdown",
   "id": "06e51e3c-f430-4400-8629-e5a28e1b4fe2",
   "metadata": {},
   "source": [
    "Distribución de Participantes por Sexo"
   ]
  },
  {
   "cell_type": "code",
   "execution_count": 58,
   "id": "24d91c72-cdad-4819-87a9-4ddf6f645f45",
   "metadata": {},
   "outputs": [
    {
     "data": {
      "image/png": "[encoded data removed]",
      "text/plain": [
       "<Figure size 640x480 with 1 Axes>"
      ]
     },
     "metadata": {},
     "output_type": "display_data"
    }
   ],
   "source": [
    "ax = doc_rename['Sexo'].value_counts().plot(kind='bar')\n",
    "plt.title(\"Distribución de Participantes por Sexo\")\n",
    "plt.xticks(rotation=0)\n",
    "for i in ax.containers:\n",
    "    ax.bar_label(i, label_type='edge', fontsize=10)\n",
    "plt.savefig('Distribución de Participantes por Sexo.png')"
   ]
  },
  {
   "cell_type": "markdown",
   "id": "27fbad12-4458-4658-9d01-db52d379977d",
   "metadata": {},
   "source": [
    "Gráfico de dispersión"
   ]
  },
  {
   "cell_type": "code",
   "execution_count": 60,
   "id": "abf5264e-e448-40ba-80a0-1260908a5642",
   "metadata": {},
   "outputs": [
    {
     "data": {
      "image/png": "[encoded data removed]",
      "text/plain": [
       "<Figure size 640x480 with 1 Axes>"
      ]
     },
     "metadata": {},
     "output_type": "display_data"
    }
   ],
   "source": [
    "plt.scatter(doc_rename[\"total\"], doc_rename[\"Edad\"])\n",
    "plt.title(\"Diagrama de dispersión de Edad por Total de Felicidad Subjetiva\")\n",
    "plt.xlabel(labels['Total'])\n",
    "plt.ylabel(labels['Edad'])\n",
    "plt.savefig('Diagrama de dispersión de Edad por Total de Felicidad Subjetiva.png')"
   ]
  },
  {
   "cell_type": "markdown",
   "id": "7696a553-6098-4d88-bdde-1cf9a7b8debe",
   "metadata": {},
   "source": [
    "Coeficiente de correlación"
   ]
  },
  {
   "cell_type": "code",
   "execution_count": 62,
   "id": "742a1e84-acff-4ff7-b763-e61e5256b88d",
   "metadata": {},
   "outputs": [
    {
     "data": {
      "text/html": [
       "<div>\n",
       "<style scoped>\n",
       "    .dataframe tbody tr th:only-of-type {\n",
       "        vertical-align: middle;\n",
       "    }\n",
       "\n",
       "    .dataframe tbody tr th {\n",
       "        vertical-align: top;\n",
       "    }\n",
       "\n",
       "    .dataframe thead th {\n",
       "        text-align: right;\n",
       "    }\n",
       "</style>\n",
       "<table border=\"1\" class=\"dataframe\">\n",
       "  <thead>\n",
       "    <tr style=\"text-align: right;\">\n",
       "      <th></th>\n",
       "      <th>total</th>\n",
       "      <th>Edad</th>\n",
       "    </tr>\n",
       "  </thead>\n",
       "  <tbody>\n",
       "    <tr>\n",
       "      <th>total</th>\n",
       "      <td>1.00000</td>\n",
       "      <td>0.21053</td>\n",
       "    </tr>\n",
       "    <tr>\n",
       "      <th>Edad</th>\n",
       "      <td>0.21053</td>\n",
       "      <td>1.00000</td>\n",
       "    </tr>\n",
       "  </tbody>\n",
       "</table>\n",
       "</div>"
      ],
      "text/plain": [
       "         total     Edad\n",
       "total  1.00000  0.21053\n",
       "Edad   0.21053  1.00000"
      ]
     },
     "execution_count": 62,
     "metadata": {},
     "output_type": "execute_result"
    }
   ],
   "source": [
    "co = doc_rename[['total', 'Edad']].copy()\n",
    "co\n",
    "co.corr(method=\"spearman\")"
   ]
  },
  {
   "cell_type": "markdown",
   "id": "521fafe6-6eb2-405c-8dd5-abb87332bd93",
   "metadata": {},
   "source": [
    "## 4. Identificar si hay una relación entre la felicidad  y el sexo de los participantes, ver si hay  diferencias."
   ]
  },
  {
   "cell_type": "markdown",
   "id": "42abac53-0025-4059-a0f6-c4070bd3f947",
   "metadata": {},
   "source": [
    "**Nivel de Investigación:** Relacional\n",
    "\n",
    "**Objetivo Estadístico:** Comparar\n",
    "\n",
    "**Variable:** Total, Sexo\n",
    "\n",
    "**Tipo de Variable:** Númerica, Categorica\n",
    "\n",
    "**Plan de análisis de datos:** Descriptivos, Gráfico Boxplot"
   ]
  },
  {
   "cell_type": "code",
   "execution_count": 65,
   "id": "d3cfb88f-680e-4966-9a84-a5e87573f8a8",
   "metadata": {},
   "outputs": [],
   "source": [
    "desc_hombres = doc_rename[doc_rename['Sexo'] == 'Hombre']\n",
    "desc_mujeres = doc_rename[doc_rename['Sexo'] == 'Mujer']"
   ]
  },
  {
   "cell_type": "markdown",
   "id": "91d3e26d-fdb8-46a3-9294-1912f6d0aa7e",
   "metadata": {},
   "source": [
    "Total de felicidad de hombres"
   ]
  },
  {
   "cell_type": "code",
   "execution_count": 67,
   "id": "e43485ef-0050-4cbf-aed4-07769787c8dc",
   "metadata": {},
   "outputs": [
    {
     "data": {
      "text/plain": [
       "total  media                 5.182540\n",
       "       IC_95%_inf            5.033361\n",
       "       IC_95%_sup            5.331719\n",
       "       media_recortada_5%    5.204678\n",
       "       mediana               5.250000\n",
       "       varianza              1.080864\n",
       "       desv_estandar         1.039646\n",
       "       minimo                2.000000\n",
       "       maximo                7.000000\n",
       "       rango                 5.000000\n",
       "       rango_intercuartil    1.250000\n",
       "       asimetria            -0.343598\n",
       "       curtosis             -0.257112\n",
       "dtype: float64"
      ]
     },
     "execution_count": 67,
     "metadata": {},
     "output_type": "execute_result"
    }
   ],
   "source": [
    "Desc_total = explorar_variables(desc_hombres,['total'])\n",
    "Desc_total"
   ]
  },
  {
   "cell_type": "markdown",
   "id": "496c7bea-d5f6-40e6-ad64-851eb08e3f1d",
   "metadata": {},
   "source": [
    "Total de felicidad de muejres"
   ]
  },
  {
   "cell_type": "code",
   "execution_count": 69,
   "id": "c1faa2e0-c4d8-436a-b818-7b744000879a",
   "metadata": {},
   "outputs": [
    {
     "data": {
      "text/plain": [
       "total  media                 5.303571\n",
       "       IC_95%_inf            5.155107\n",
       "       IC_95%_sup            5.452036\n",
       "       media_recortada_5%    5.317460\n",
       "       mediana               5.250000\n",
       "       varianza              0.789376\n",
       "       desv_estandar         0.888468\n",
       "       minimo                3.250000\n",
       "       maximo                7.000000\n",
       "       rango                 3.750000\n",
       "       rango_intercuartil    1.250000\n",
       "       asimetria            -0.116131\n",
       "       curtosis             -0.485438\n",
       "dtype: float64"
      ]
     },
     "execution_count": 69,
     "metadata": {},
     "output_type": "execute_result"
    }
   ],
   "source": [
    "Desc_total = explorar_variables(desc_mujeres,['total'])\n",
    "Desc_total"
   ]
  },
  {
   "cell_type": "markdown",
   "id": "ed9bb0dd-770a-4406-a2fa-65baf242d655",
   "metadata": {},
   "source": [
    "Boxplot Distribución del total por sexo"
   ]
  },
  {
   "cell_type": "code",
   "execution_count": 71,
   "id": "31229bb1-dd14-40f6-a5b3-11c0eb2fe26f",
   "metadata": {
    "scrolled": true
   },
   "outputs": [
    {
     "data": {
      "image/png": "[encoded data removed]",
      "text/plain": [
       "<Figure size 640x480 with 1 Axes>"
      ]
     },
     "metadata": {},
     "output_type": "display_data"
    }
   ],
   "source": [
    "# Filtrar los datos por sexo\n",
    "hombres = doc_rename[doc_rename['Sexo'] == 'Hombre']['total']\n",
    "mujeres = doc_rename[doc_rename['Sexo'] == 'Mujer']['total']\n",
    "\n",
    "# Crear el boxplot\n",
    "plt.title('Distribución del total por Sexo')\n",
    "plt.xlabel(labels['Sexo'])\n",
    "plt.ylabel(labels['Total'])\n",
    "plt.boxplot([mujeres, hombres], tick_labels=['Mujer', 'Hombre']); \n",
    "# ; es para omitir texto adicional en la salida\n",
    "plt.savefig('Distribución del total por Sexo')"
   ]
  }
 ],
 "metadata": {
  "kernelspec": {
   "display_name": "Python [conda env:pydata-book] *",
   "language": "python",
   "name": "conda-env-pydata-book-py"
  },
  "language_info": {
   "codemirror_mode": {
    "name": "ipython",
    "version": 3
   },
   "file_extension": ".py",
   "mimetype": "text/x-python",
   "name": "python",
   "nbconvert_exporter": "python",
   "pygments_lexer": "ipython3",
   "version": "3.10.16"
  }
 },
 "nbformat": 4,
 "nbformat_minor": 5
}
